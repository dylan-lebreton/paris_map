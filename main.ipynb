{
 "cells": [
  {
   "cell_type": "code",
   "execution_count": 1,
   "id": "25de53f3-9457-4813-90f5-9412f9ef3f6b",
   "metadata": {},
   "outputs": [],
   "source": [
    "import geopandas as gpd\n",
    "import plotly.express as px\n",
    "import plotly.graph_objects as go\n",
    "import json\n",
    "import requests\n",
    "import pandas as pd\n",
    "import io\n",
    "import geopy.distance\n",
    "\n",
    "def arrondissements_geojson():\n",
    "    url = \"https://opendata.paris.fr/explore/dataset/arrondissements/download/?format=geojson&timezone=Europe/Berlin&lang=fr\"\n",
    "    response = requests.get(url, verify=False)\n",
    "    return response.json()\n",
    "\n",
    "def arrondissements_dataframe():\n",
    "    url = \"https://opendata.paris.fr/explore/dataset/arrondissements/download/?format=csv&timezone=Europe/Berlin&lang=fr\"\n",
    "    response = requests.get(url, verify=False).content\n",
    "    df = pd.read_csv(io.StringIO(response.decode('utf-8')), sep=\";\")\n",
    "    df = df[['c_ar', 'l_aroff', 'l_ar']].rename(columns={\"c_ar\": \"numero\", \"l_ar\": \"nom_1\", \"l_aroff\": \"nom_2\"}).sort_values(\"numero\").reset_index(drop=True)\n",
    "    df['Information'] = df['nom_1'].str.replace(\"Ardt\", \"Arrondissement\") + \" (\" + df['nom_2'] + \")\"\n",
    "    return df\n",
    "\n",
    "def metro_dataframe():\n",
    "    url = \"https://data.iledefrance-mobilites.fr/explore/dataset/arrets-lignes/download/?format=csv&timezone=Europe/Berlin&lang=fr\"\n",
    "    response = requests.get(url, verify=False).content\n",
    "    df = pd.read_csv(io.StringIO(response.decode('utf-8')), sep=\";\")\n",
    "    \n",
    "    # Renommer les modes de transport en français\n",
    "    mode_translation = {\n",
    "        'Metro': 'Métro',\n",
    "        'regionalRail': 'TER',\n",
    "        'LocalTrain': 'Transilien',\n",
    "        'Tramway': 'Tramway',\n",
    "        'Bus': 'Bus',\n",
    "        'RailShuttle': 'Navette ferroviaire',\n",
    "        'RapidTransit': 'RER',\n",
    "        'Funicular': 'Funiculaire'\n",
    "    }\n",
    "    \n",
    "    df['mode'] = df['mode'].map(mode_translation)\n",
    "    df['nom'] = df['mode'] + \" \" + df['route_long_name']\n",
    "    df['info'] = df['nom'] + ' - ' + df['stop_name']\n",
    "    return df\n",
    "\n",
    "def arrondissements_map():\n",
    "    fig = px.choropleth_mapbox(arrondissements_dataframe(), geojson=arrondissements_geojson(),\n",
    "                               locations=\"numero\", featureidkey=\"properties.c_ar\",\n",
    "                               color=\"Information\", hover_name=\"Information\",\n",
    "                               mapbox_style=\"open-street-map\", zoom=11, center={\"lat\": 48.8566, \"lon\": 2.3522}, opacity=0.5,\n",
    "                               hover_data={col : False for col in arrondissements_dataframe().columns})\n",
    "    fig.update_layout(margin={\"r\": 0, \"t\": 0, \"l\": 0, \"b\": 0}, showlegend=True)\n",
    "    return fig\n",
    "\n",
    "\n",
    "def stations_map(stations: pd.DataFrame):\n",
    "    fig = px.scatter_mapbox(stations, lat=\"stop_lat\", lon=\"stop_lon\", color=\"nom\", hover_name=\"info\", hover_data={col: False for col in stations.columns},\n",
    "                            mapbox_style=\"open-street-map\", zoom=11, center={\"lat\": 48.8566, \"lon\": 2.3522})\n",
    "    fig.update_layout(margin={\"r\": 0, \"t\": 0, \"l\": 0, \"b\": 0}, showlegend=True)\n",
    "    fig.update_traces(marker=dict(size=10))\n",
    "    return fig\n",
    "\n",
    "def complete_stations_map(stations: pd.DataFrame):\n",
    "  fig = arrondissements_map()\n",
    "  fig_stations = stations_map(stations)\n",
    "  for trace in fig_stations.data:\n",
    "      fig.add_trace(trace)\n",
    "  return fig\n",
    "\n",
    "def stations_distance(station_1_lat, station_1_lon, station_2_lat, station_2_lon):\n",
    "    return geopy.distance.geodesic((station_1_lat, station_1_lon), (station_2_lat, station_2_lon)).km"
   ]
  },
  {
   "cell_type": "code",
   "execution_count": 25,
   "id": "fbb58787-6be4-40a8-b466-f4ef1064aef5",
   "metadata": {},
   "outputs": [
    {
     "name": "stderr",
     "output_type": "stream",
     "text": [
      "C:\\Users\\DLEBDGNL\\Documents\\Private\\paris_map\\venv\\Lib\\site-packages\\urllib3\\connectionpool.py:1099: InsecureRequestWarning: Unverified HTTPS request is being made to host 'data.iledefrance-mobilites.fr'. Adding certificate verification is strongly advised. See: https://urllib3.readthedocs.io/en/latest/advanced-usage.html#tls-warnings\n",
      "  warnings.warn(\n"
     ]
    }
   ],
   "source": [
    "# We retrieve all the stations in Paris\n",
    "stations = metro_dataframe()\n",
    "\n",
    "# We find all the stations linked to \"La Défense\"\n",
    "defense_stations = stations[stations['stop_name'].str.contains(\"Défense\")]['nom'].unique()\n",
    "\n",
    "# We keep those way of transport\n",
    "stations = stations[stations['nom'].isin(defense_stations)]\n",
    "\n",
    "# # We find all the metro stations being close to at least metro 1 stations\n",
    "# metro_1_stations = stations[stations['nom'] == \"Métro 1\"].copy(deep=True)[['nom', 'stop_id', 'stop_name', 'stop_lat', 'stop_lon']]\n",
    "# metro_other_stations = stations[(stations['mode'] == \"Métro\") & (stations['route_long_name'] != \"1\")].copy(deep=True)[['nom', 'stop_id', 'stop_name', 'stop_lat', 'stop_lon']]\n",
    "# metro_distances = metro_other_stations.merge(metro_1_stations, how=\"cross\", suffixes=(\"_other\", \"_1\"))\n",
    "# metro_distances['distance'] = metro_distances.apply(lambda row: stations_distance(row['stop_lat_other'], row['stop_lon_other'], row['stop_lat_1'], row['stop_lon_1']), axis=1)\n",
    "# metro_distances = metro_distances[metro_distances['distance'] <= 0.2]\n",
    "\n",
    "# # metro_stations_distances = metro_stations.copy(deep=True).merge(metro_stations.copy(deep=True), how=\"cross\", suffixes=(\"_1\", \"_2\"))\n",
    "# # metro_stations_distances['distance'] = metro_stations_distances.progress_apply(lambda row : stations_distance(row['stop_lat_1'], row['stop_lon_1'], row['stop_lat_2'], row['stop_lon_2']), axis=1)\n",
    "# # metro_stations_distances"
   ]
  },
  {
   "cell_type": "code",
   "execution_count": 26,
   "id": "e22cc266-666f-4133-87b0-50d34a2522ed",
   "metadata": {},
   "outputs": [
    {
     "name": "stderr",
     "output_type": "stream",
     "text": [
      "C:\\Users\\DLEBDGNL\\Documents\\Private\\paris_map\\venv\\Lib\\site-packages\\urllib3\\connectionpool.py:1099: InsecureRequestWarning: Unverified HTTPS request is being made to host 'opendata.paris.fr'. Adding certificate verification is strongly advised. See: https://urllib3.readthedocs.io/en/latest/advanced-usage.html#tls-warnings\n",
      "  warnings.warn(\n",
      "C:\\Users\\DLEBDGNL\\Documents\\Private\\paris_map\\venv\\Lib\\site-packages\\urllib3\\connectionpool.py:1099: InsecureRequestWarning: Unverified HTTPS request is being made to host 'opendata.paris.fr'. Adding certificate verification is strongly advised. See: https://urllib3.readthedocs.io/en/latest/advanced-usage.html#tls-warnings\n",
      "  warnings.warn(\n",
      "C:\\Users\\DLEBDGNL\\Documents\\Private\\paris_map\\venv\\Lib\\site-packages\\urllib3\\connectionpool.py:1099: InsecureRequestWarning: Unverified HTTPS request is being made to host 'opendata.paris.fr'. Adding certificate verification is strongly advised. See: https://urllib3.readthedocs.io/en/latest/advanced-usage.html#tls-warnings\n",
      "  warnings.warn(\n"
     ]
    }
   ],
   "source": [
    "fig = complete_stations_map(stations)\n",
    "fig.write_html(r\"./paris_map.html\")"
   ]
  }
 ],
 "metadata": {
  "kernelspec": {
   "display_name": "Python 3 (ipykernel)",
   "language": "python",
   "name": "python3"
  },
  "language_info": {
   "codemirror_mode": {
    "name": "ipython",
    "version": 3
   },
   "file_extension": ".py",
   "mimetype": "text/x-python",
   "name": "python",
   "nbconvert_exporter": "python",
   "pygments_lexer": "ipython3",
   "version": "3.12.2"
  }
 },
 "nbformat": 4,
 "nbformat_minor": 5
}
